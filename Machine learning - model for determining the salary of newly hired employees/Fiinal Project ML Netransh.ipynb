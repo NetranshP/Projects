{
 "cells": [
  {
   "cell_type": "markdown",
   "id": "18344d02",
   "metadata": {},
   "source": [
    "# 1. Importing Libraries"
   ]
  },
  {
   "cell_type": "code",
   "execution_count": 1,
   "id": "b1979464",
   "metadata": {},
   "outputs": [],
   "source": [
    "# Data manipulation\n",
    "# Data visualization\n",
    "# Analysis\n",
    "\n",
    "import pandas as pd\n",
    "import numpy as np\n",
    "import seaborn as sns\n",
    "from sklearn.model_selection import train_test_split\n",
    "from sklearn.preprocessing import StandardScaler\n",
    "from sklearn.linear_model import LinearRegression\n",
    "from sklearn.metrics import mean_squared_error, r2_score\n",
    "from sklearn.linear_model import Ridge\n",
    "from sklearn.linear_model import Lasso"
   ]
  },
  {
   "cell_type": "markdown",
   "id": "06c46ec8",
   "metadata": {},
   "source": [
    "# 2. Data Collection"
   ]
  },
  {
   "cell_type": "code",
   "execution_count": 2,
   "id": "de074a3b",
   "metadata": {},
   "outputs": [],
   "source": [
    "# Read a CSV file into a DataFrame\n",
    "\n",
    "df = pd.read_csv(r\"C:\\Users\\netra\\Downloads\\ML case Study.csv\",header=0)\n",
    "college = pd.read_csv(r\"C:\\Users\\netra\\Downloads\\Colleges.csv\",header=0)\n",
    "cities = pd.read_csv(r\"C:\\Users\\netra\\Downloads\\cities.csv\",header=0)"
   ]
  },
  {
   "cell_type": "markdown",
   "id": "65b014ae",
   "metadata": {},
   "source": [
    "### Overview of data"
   ]
  },
  {
   "cell_type": "code",
   "execution_count": 3,
   "id": "e38ec880",
   "metadata": {},
   "outputs": [
    {
     "data": {
      "text/html": [
       "<div>\n",
       "<style scoped>\n",
       "    .dataframe tbody tr th:only-of-type {\n",
       "        vertical-align: middle;\n",
       "    }\n",
       "\n",
       "    .dataframe tbody tr th {\n",
       "        vertical-align: top;\n",
       "    }\n",
       "\n",
       "    .dataframe thead th {\n",
       "        text-align: right;\n",
       "    }\n",
       "</style>\n",
       "<table border=\"1\" class=\"dataframe\">\n",
       "  <thead>\n",
       "    <tr style=\"text-align: right;\">\n",
       "      <th></th>\n",
       "      <th>College</th>\n",
       "      <th>City</th>\n",
       "      <th>Role</th>\n",
       "      <th>Previous CTC</th>\n",
       "      <th>Previous job change</th>\n",
       "      <th>Graduation Marks</th>\n",
       "      <th>EXP (Month)</th>\n",
       "      <th>CTC</th>\n",
       "    </tr>\n",
       "  </thead>\n",
       "  <tbody>\n",
       "    <tr>\n",
       "      <th>0</th>\n",
       "      <td>SVNIT Surat</td>\n",
       "      <td>Asansol</td>\n",
       "      <td>Manager</td>\n",
       "      <td>55523.0</td>\n",
       "      <td>3</td>\n",
       "      <td>66</td>\n",
       "      <td>19</td>\n",
       "      <td>71406.58</td>\n",
       "    </tr>\n",
       "    <tr>\n",
       "      <th>1</th>\n",
       "      <td>NIT Bhopal</td>\n",
       "      <td>Ajmer</td>\n",
       "      <td>Executive</td>\n",
       "      <td>57081.0</td>\n",
       "      <td>1</td>\n",
       "      <td>84</td>\n",
       "      <td>18</td>\n",
       "      <td>68005.87</td>\n",
       "    </tr>\n",
       "    <tr>\n",
       "      <th>2</th>\n",
       "      <td>IEM, Kolkata</td>\n",
       "      <td>Rajpur Sonarpur</td>\n",
       "      <td>Executive</td>\n",
       "      <td>60347.0</td>\n",
       "      <td>2</td>\n",
       "      <td>52</td>\n",
       "      <td>28</td>\n",
       "      <td>76764.02</td>\n",
       "    </tr>\n",
       "    <tr>\n",
       "      <th>3</th>\n",
       "      <td>KIIT, Bhubaneswar</td>\n",
       "      <td>Ajmer</td>\n",
       "      <td>Executive</td>\n",
       "      <td>49010.0</td>\n",
       "      <td>2</td>\n",
       "      <td>81</td>\n",
       "      <td>33</td>\n",
       "      <td>82092.39</td>\n",
       "    </tr>\n",
       "    <tr>\n",
       "      <th>4</th>\n",
       "      <td>DTU</td>\n",
       "      <td>Durgapur</td>\n",
       "      <td>Executive</td>\n",
       "      <td>57879.0</td>\n",
       "      <td>4</td>\n",
       "      <td>74</td>\n",
       "      <td>32</td>\n",
       "      <td>73878.10</td>\n",
       "    </tr>\n",
       "  </tbody>\n",
       "</table>\n",
       "</div>"
      ],
      "text/plain": [
       "             College             City       Role  Previous CTC  \\\n",
       "0        SVNIT Surat          Asansol    Manager       55523.0   \n",
       "1         NIT Bhopal            Ajmer  Executive       57081.0   \n",
       "2       IEM, Kolkata  Rajpur Sonarpur  Executive       60347.0   \n",
       "3  KIIT, Bhubaneswar            Ajmer  Executive       49010.0   \n",
       "4                DTU         Durgapur  Executive       57879.0   \n",
       "\n",
       "   Previous job change  Graduation Marks  EXP (Month)       CTC  \n",
       "0                    3                66           19  71406.58  \n",
       "1                    1                84           18  68005.87  \n",
       "2                    2                52           28  76764.02  \n",
       "3                    2                81           33  82092.39  \n",
       "4                    4                74           32  73878.10  "
      ]
     },
     "execution_count": 3,
     "metadata": {},
     "output_type": "execute_result"
    }
   ],
   "source": [
    "df.head()"
   ]
  },
  {
   "cell_type": "code",
   "execution_count": 4,
   "id": "1b6f0866",
   "metadata": {},
   "outputs": [
    {
     "data": {
      "text/html": [
       "<div>\n",
       "<style scoped>\n",
       "    .dataframe tbody tr th:only-of-type {\n",
       "        vertical-align: middle;\n",
       "    }\n",
       "\n",
       "    .dataframe tbody tr th {\n",
       "        vertical-align: top;\n",
       "    }\n",
       "\n",
       "    .dataframe thead th {\n",
       "        text-align: right;\n",
       "    }\n",
       "</style>\n",
       "<table border=\"1\" class=\"dataframe\">\n",
       "  <thead>\n",
       "    <tr style=\"text-align: right;\">\n",
       "      <th></th>\n",
       "      <th>Tier 1</th>\n",
       "      <th>Tier 2</th>\n",
       "      <th>Tier 3</th>\n",
       "    </tr>\n",
       "  </thead>\n",
       "  <tbody>\n",
       "    <tr>\n",
       "      <th>0</th>\n",
       "      <td>IIT Bombay</td>\n",
       "      <td>IIIT Bangalore</td>\n",
       "      <td>Ramaiah Institute of Technology, Bengaluru</td>\n",
       "    </tr>\n",
       "    <tr>\n",
       "      <th>1</th>\n",
       "      <td>IIT Delhi</td>\n",
       "      <td>IIIT Delhi</td>\n",
       "      <td>TIET/Thapar University</td>\n",
       "    </tr>\n",
       "    <tr>\n",
       "      <th>2</th>\n",
       "      <td>IIT Kharagpur</td>\n",
       "      <td>IGDTUW</td>\n",
       "      <td>Manipal Main Campus</td>\n",
       "    </tr>\n",
       "    <tr>\n",
       "      <th>3</th>\n",
       "      <td>IIT Madras</td>\n",
       "      <td>NIT Calicut</td>\n",
       "      <td>VIT Vellore</td>\n",
       "    </tr>\n",
       "    <tr>\n",
       "      <th>4</th>\n",
       "      <td>IIT Kanpur</td>\n",
       "      <td>IIITM Gwalior</td>\n",
       "      <td>SRM Main Campus</td>\n",
       "    </tr>\n",
       "  </tbody>\n",
       "</table>\n",
       "</div>"
      ],
      "text/plain": [
       "          Tier 1          Tier 2                                      Tier 3\n",
       "0     IIT Bombay  IIIT Bangalore  Ramaiah Institute of Technology, Bengaluru\n",
       "1      IIT Delhi      IIIT Delhi                      TIET/Thapar University\n",
       "2  IIT Kharagpur          IGDTUW                         Manipal Main Campus\n",
       "3     IIT Madras     NIT Calicut                                 VIT Vellore\n",
       "4     IIT Kanpur   IIITM Gwalior                             SRM Main Campus"
      ]
     },
     "execution_count": 4,
     "metadata": {},
     "output_type": "execute_result"
    }
   ],
   "source": [
    "college.head()"
   ]
  },
  {
   "cell_type": "code",
   "execution_count": 5,
   "id": "d04e66f4",
   "metadata": {},
   "outputs": [
    {
     "data": {
      "text/html": [
       "<div>\n",
       "<style scoped>\n",
       "    .dataframe tbody tr th:only-of-type {\n",
       "        vertical-align: middle;\n",
       "    }\n",
       "\n",
       "    .dataframe tbody tr th {\n",
       "        vertical-align: top;\n",
       "    }\n",
       "\n",
       "    .dataframe thead th {\n",
       "        text-align: right;\n",
       "    }\n",
       "</style>\n",
       "<table border=\"1\" class=\"dataframe\">\n",
       "  <thead>\n",
       "    <tr style=\"text-align: right;\">\n",
       "      <th></th>\n",
       "      <th>Metrio City</th>\n",
       "      <th>non-metro cities</th>\n",
       "    </tr>\n",
       "  </thead>\n",
       "  <tbody>\n",
       "    <tr>\n",
       "      <th>0</th>\n",
       "      <td>Mumbai</td>\n",
       "      <td>Dehradun</td>\n",
       "    </tr>\n",
       "    <tr>\n",
       "      <th>1</th>\n",
       "      <td>Delhi</td>\n",
       "      <td>Durgapur</td>\n",
       "    </tr>\n",
       "    <tr>\n",
       "      <th>2</th>\n",
       "      <td>Kolkata</td>\n",
       "      <td>Asansol</td>\n",
       "    </tr>\n",
       "    <tr>\n",
       "      <th>3</th>\n",
       "      <td>Chennai</td>\n",
       "      <td>Rourkela</td>\n",
       "    </tr>\n",
       "    <tr>\n",
       "      <th>4</th>\n",
       "      <td>Bangalore</td>\n",
       "      <td>Kozhikode</td>\n",
       "    </tr>\n",
       "  </tbody>\n",
       "</table>\n",
       "</div>"
      ],
      "text/plain": [
       "  Metrio City non-metro cities\n",
       "0      Mumbai         Dehradun\n",
       "1       Delhi         Durgapur\n",
       "2     Kolkata          Asansol\n",
       "3     Chennai         Rourkela\n",
       "4   Bangalore        Kozhikode"
      ]
     },
     "execution_count": 5,
     "metadata": {},
     "output_type": "execute_result"
    }
   ],
   "source": [
    "cities.head()"
   ]
  },
  {
   "cell_type": "code",
   "execution_count": 6,
   "id": "cd286750",
   "metadata": {},
   "outputs": [
    {
     "name": "stdout",
     "output_type": "stream",
     "text": [
      "<class 'pandas.core.frame.DataFrame'>\n",
      "RangeIndex: 1589 entries, 0 to 1588\n",
      "Data columns (total 8 columns):\n",
      " #   Column               Non-Null Count  Dtype  \n",
      "---  ------               --------------  -----  \n",
      " 0   College              1589 non-null   object \n",
      " 1   City                 1589 non-null   object \n",
      " 2   Role                 1589 non-null   object \n",
      " 3   Previous CTC         1589 non-null   float64\n",
      " 4   Previous job change  1589 non-null   int64  \n",
      " 5   Graduation Marks     1589 non-null   int64  \n",
      " 6   EXP (Month)          1589 non-null   int64  \n",
      " 7   CTC                  1589 non-null   float64\n",
      "dtypes: float64(2), int64(3), object(3)\n",
      "memory usage: 99.4+ KB\n"
     ]
    }
   ],
   "source": [
    "# Checking missing values in data\n",
    "\n",
    "df.info()"
   ]
  },
  {
   "cell_type": "code",
   "execution_count": 7,
   "id": "e920844f",
   "metadata": {},
   "outputs": [
    {
     "data": {
      "text/html": [
       "<div>\n",
       "<style scoped>\n",
       "    .dataframe tbody tr th:only-of-type {\n",
       "        vertical-align: middle;\n",
       "    }\n",
       "\n",
       "    .dataframe tbody tr th {\n",
       "        vertical-align: top;\n",
       "    }\n",
       "\n",
       "    .dataframe thead th {\n",
       "        text-align: right;\n",
       "    }\n",
       "</style>\n",
       "<table border=\"1\" class=\"dataframe\">\n",
       "  <thead>\n",
       "    <tr style=\"text-align: right;\">\n",
       "      <th></th>\n",
       "      <th>Previous CTC</th>\n",
       "      <th>Previous job change</th>\n",
       "      <th>Graduation Marks</th>\n",
       "      <th>EXP (Month)</th>\n",
       "      <th>CTC</th>\n",
       "    </tr>\n",
       "  </thead>\n",
       "  <tbody>\n",
       "    <tr>\n",
       "      <th>count</th>\n",
       "      <td>1589.000000</td>\n",
       "      <td>1589.000000</td>\n",
       "      <td>1589.000000</td>\n",
       "      <td>1589.000000</td>\n",
       "      <td>1589.000000</td>\n",
       "    </tr>\n",
       "    <tr>\n",
       "      <th>mean</th>\n",
       "      <td>55518.453744</td>\n",
       "      <td>2.528634</td>\n",
       "      <td>59.855255</td>\n",
       "      <td>39.044682</td>\n",
       "      <td>75353.278798</td>\n",
       "    </tr>\n",
       "    <tr>\n",
       "      <th>std</th>\n",
       "      <td>6655.218445</td>\n",
       "      <td>1.123918</td>\n",
       "      <td>14.935139</td>\n",
       "      <td>14.108875</td>\n",
       "      <td>12587.288237</td>\n",
       "    </tr>\n",
       "    <tr>\n",
       "      <th>min</th>\n",
       "      <td>36990.000000</td>\n",
       "      <td>1.000000</td>\n",
       "      <td>35.000000</td>\n",
       "      <td>18.000000</td>\n",
       "      <td>53020.320000</td>\n",
       "    </tr>\n",
       "    <tr>\n",
       "      <th>25%</th>\n",
       "      <td>50518.000000</td>\n",
       "      <td>2.000000</td>\n",
       "      <td>46.000000</td>\n",
       "      <td>26.000000</td>\n",
       "      <td>66902.350000</td>\n",
       "    </tr>\n",
       "    <tr>\n",
       "      <th>50%</th>\n",
       "      <td>55291.000000</td>\n",
       "      <td>3.000000</td>\n",
       "      <td>60.000000</td>\n",
       "      <td>39.000000</td>\n",
       "      <td>73028.670000</td>\n",
       "    </tr>\n",
       "    <tr>\n",
       "      <th>75%</th>\n",
       "      <td>60109.000000</td>\n",
       "      <td>4.000000</td>\n",
       "      <td>73.000000</td>\n",
       "      <td>51.000000</td>\n",
       "      <td>80588.670000</td>\n",
       "    </tr>\n",
       "    <tr>\n",
       "      <th>max</th>\n",
       "      <td>77911.000000</td>\n",
       "      <td>4.000000</td>\n",
       "      <td>85.000000</td>\n",
       "      <td>64.000000</td>\n",
       "      <td>123416.990000</td>\n",
       "    </tr>\n",
       "  </tbody>\n",
       "</table>\n",
       "</div>"
      ],
      "text/plain": [
       "       Previous CTC  Previous job change  Graduation Marks  EXP (Month)  \\\n",
       "count   1589.000000          1589.000000       1589.000000  1589.000000   \n",
       "mean   55518.453744             2.528634         59.855255    39.044682   \n",
       "std     6655.218445             1.123918         14.935139    14.108875   \n",
       "min    36990.000000             1.000000         35.000000    18.000000   \n",
       "25%    50518.000000             2.000000         46.000000    26.000000   \n",
       "50%    55291.000000             3.000000         60.000000    39.000000   \n",
       "75%    60109.000000             4.000000         73.000000    51.000000   \n",
       "max    77911.000000             4.000000         85.000000    64.000000   \n",
       "\n",
       "                 CTC  \n",
       "count    1589.000000  \n",
       "mean    75353.278798  \n",
       "std     12587.288237  \n",
       "min     53020.320000  \n",
       "25%     66902.350000  \n",
       "50%     73028.670000  \n",
       "75%     80588.670000  \n",
       "max    123416.990000  "
      ]
     },
     "execution_count": 7,
     "metadata": {},
     "output_type": "execute_result"
    }
   ],
   "source": [
    "df.describe()"
   ]
  },
  {
   "cell_type": "markdown",
   "id": "fead09ee",
   "metadata": {},
   "source": [
    "# 3. Data Preprocessing"
   ]
  },
  {
   "cell_type": "code",
   "execution_count": 8,
   "id": "d1e50378",
   "metadata": {},
   "outputs": [],
   "source": [
    "# Creating A Tier lists\n",
    "Tier1 = college[\"Tier 1\"].tolist()\n",
    "Tier2 = college[\"Tier 2\"].tolist()\n",
    "Tier3 = college[\"Tier 3\"].tolist()"
   ]
  },
  {
   "cell_type": "code",
   "execution_count": 9,
   "id": "d8202ed7",
   "metadata": {},
   "outputs": [],
   "source": [
    "# label encoding(Colleges Tiers)\n",
    "df['College'] = df['College'].map({college: 1 for college in Tier1} \n",
    "                                | {college: 2 for college in Tier2} \n",
    "                                | {college: 3 for college in Tier3})"
   ]
  },
  {
   "cell_type": "code",
   "execution_count": 10,
   "id": "acd464dd",
   "metadata": {},
   "outputs": [],
   "source": [
    "# Creating A cities lists\n",
    "metro_city = cities[\"Metrio City\"].tolist()\n",
    "non_metro_city = cities[\"non-metro cities\"].tolist()"
   ]
  },
  {
   "cell_type": "code",
   "execution_count": 11,
   "id": "39d87654",
   "metadata": {},
   "outputs": [],
   "source": [
    "# label encoding(Cities)\n",
    "city_mapping = {city: 1 for city in metro_city}\n",
    "city_mapping.update({city: 0 for city in non_metro_city})\n",
    "\n",
    "df['City'] = df['City'].map(city_mapping)"
   ]
  },
  {
   "cell_type": "code",
   "execution_count": 12,
   "id": "fe0121c2",
   "metadata": {},
   "outputs": [
    {
     "data": {
      "text/plain": [
       "['IIT Bombay',\n",
       " 'IIT Delhi',\n",
       " 'IIT Kharagpur',\n",
       " 'IIT Madras',\n",
       " 'IIT Kanpur',\n",
       " 'IIT Roorkee',\n",
       " 'IIT Guwahati',\n",
       " 'IIIT Hyderabad',\n",
       " 'BITS Pilani (Pilani Campus)',\n",
       " 'IIT Indore',\n",
       " 'IIT Ropar',\n",
       " 'IIT BHU (Varanasi)',\n",
       " 'IIT ISM Dhanbad',\n",
       " 'DTU',\n",
       " 'NSUT Delhi (NSIT)',\n",
       " 'NIT Tiruchipally (Trichy)',\n",
       " 'NIT Warangal',\n",
       " 'NIT Surathkal (Karnataka)',\n",
       " 'Jadavpur University',\n",
       " 'BITS Pilani (Hyderabad Campus)',\n",
       " 'BITS Pilani (Goa Campus)',\n",
       " 'IIIT Allahabad',\n",
       " nan,\n",
       " nan,\n",
       " nan,\n",
       " nan,\n",
       " nan,\n",
       " nan]"
      ]
     },
     "execution_count": 12,
     "metadata": {},
     "output_type": "execute_result"
    }
   ],
   "source": [
    "# Overview\n",
    "\n",
    "Tier1"
   ]
  },
  {
   "cell_type": "code",
   "execution_count": 13,
   "id": "36445b1b",
   "metadata": {},
   "outputs": [],
   "source": [
    "# Converting Categorical column 'Role' into dummy variables\n",
    "\n",
    "df = pd.get_dummies(df, columns=['Role'], drop_first=True)"
   ]
  },
  {
   "cell_type": "code",
   "execution_count": 14,
   "id": "afe0074b",
   "metadata": {},
   "outputs": [
    {
     "data": {
      "text/html": [
       "<div>\n",
       "<style scoped>\n",
       "    .dataframe tbody tr th:only-of-type {\n",
       "        vertical-align: middle;\n",
       "    }\n",
       "\n",
       "    .dataframe tbody tr th {\n",
       "        vertical-align: top;\n",
       "    }\n",
       "\n",
       "    .dataframe thead th {\n",
       "        text-align: right;\n",
       "    }\n",
       "</style>\n",
       "<table border=\"1\" class=\"dataframe\">\n",
       "  <thead>\n",
       "    <tr style=\"text-align: right;\">\n",
       "      <th></th>\n",
       "      <th>College</th>\n",
       "      <th>City</th>\n",
       "      <th>Previous CTC</th>\n",
       "      <th>Previous job change</th>\n",
       "      <th>Graduation Marks</th>\n",
       "      <th>EXP (Month)</th>\n",
       "      <th>CTC</th>\n",
       "      <th>Role_Manager</th>\n",
       "    </tr>\n",
       "  </thead>\n",
       "  <tbody>\n",
       "    <tr>\n",
       "      <th>123</th>\n",
       "      <td>1</td>\n",
       "      <td>0</td>\n",
       "      <td>55440.0</td>\n",
       "      <td>4</td>\n",
       "      <td>72</td>\n",
       "      <td>44</td>\n",
       "      <td>112826.26</td>\n",
       "      <td>1</td>\n",
       "    </tr>\n",
       "    <tr>\n",
       "      <th>1261</th>\n",
       "      <td>1</td>\n",
       "      <td>0</td>\n",
       "      <td>63087.0</td>\n",
       "      <td>1</td>\n",
       "      <td>66</td>\n",
       "      <td>28</td>\n",
       "      <td>70052.79</td>\n",
       "      <td>0</td>\n",
       "    </tr>\n",
       "    <tr>\n",
       "      <th>335</th>\n",
       "      <td>3</td>\n",
       "      <td>0</td>\n",
       "      <td>62820.0</td>\n",
       "      <td>3</td>\n",
       "      <td>62</td>\n",
       "      <td>64</td>\n",
       "      <td>75366.41</td>\n",
       "      <td>0</td>\n",
       "    </tr>\n",
       "    <tr>\n",
       "      <th>277</th>\n",
       "      <td>1</td>\n",
       "      <td>0</td>\n",
       "      <td>51281.0</td>\n",
       "      <td>3</td>\n",
       "      <td>55</td>\n",
       "      <td>22</td>\n",
       "      <td>66298.70</td>\n",
       "      <td>0</td>\n",
       "    </tr>\n",
       "    <tr>\n",
       "      <th>1565</th>\n",
       "      <td>1</td>\n",
       "      <td>1</td>\n",
       "      <td>66411.0</td>\n",
       "      <td>1</td>\n",
       "      <td>47</td>\n",
       "      <td>58</td>\n",
       "      <td>87222.87</td>\n",
       "      <td>0</td>\n",
       "    </tr>\n",
       "  </tbody>\n",
       "</table>\n",
       "</div>"
      ],
      "text/plain": [
       "      College  City  Previous CTC  Previous job change  Graduation Marks  \\\n",
       "123         1     0       55440.0                    4                72   \n",
       "1261        1     0       63087.0                    1                66   \n",
       "335         3     0       62820.0                    3                62   \n",
       "277         1     0       51281.0                    3                55   \n",
       "1565        1     1       66411.0                    1                47   \n",
       "\n",
       "      EXP (Month)        CTC  Role_Manager  \n",
       "123            44  112826.26             1  \n",
       "1261           28   70052.79             0  \n",
       "335            64   75366.41             0  \n",
       "277            22   66298.70             0  \n",
       "1565           58   87222.87             0  "
      ]
     },
     "execution_count": 14,
     "metadata": {},
     "output_type": "execute_result"
    }
   ],
   "source": [
    "df.sample(5)"
   ]
  },
  {
   "cell_type": "code",
   "execution_count": 15,
   "id": "c3c9e868",
   "metadata": {},
   "outputs": [
    {
     "data": {
      "text/html": [
       "<div>\n",
       "<style scoped>\n",
       "    .dataframe tbody tr th:only-of-type {\n",
       "        vertical-align: middle;\n",
       "    }\n",
       "\n",
       "    .dataframe tbody tr th {\n",
       "        vertical-align: top;\n",
       "    }\n",
       "\n",
       "    .dataframe thead th {\n",
       "        text-align: right;\n",
       "    }\n",
       "</style>\n",
       "<table border=\"1\" class=\"dataframe\">\n",
       "  <thead>\n",
       "    <tr style=\"text-align: right;\">\n",
       "      <th></th>\n",
       "      <th>College</th>\n",
       "      <th>City</th>\n",
       "      <th>Previous CTC</th>\n",
       "      <th>Previous job change</th>\n",
       "      <th>Graduation Marks</th>\n",
       "      <th>EXP (Month)</th>\n",
       "      <th>CTC</th>\n",
       "      <th>Role_Manager</th>\n",
       "    </tr>\n",
       "  </thead>\n",
       "  <tbody>\n",
       "    <tr>\n",
       "      <th>College</th>\n",
       "      <td>1.000000</td>\n",
       "      <td>-0.014946</td>\n",
       "      <td>0.041979</td>\n",
       "      <td>-0.055060</td>\n",
       "      <td>0.003539</td>\n",
       "      <td>0.011752</td>\n",
       "      <td>-0.029592</td>\n",
       "      <td>-0.014749</td>\n",
       "    </tr>\n",
       "    <tr>\n",
       "      <th>City</th>\n",
       "      <td>-0.014946</td>\n",
       "      <td>1.000000</td>\n",
       "      <td>0.004644</td>\n",
       "      <td>0.051670</td>\n",
       "      <td>-0.018616</td>\n",
       "      <td>-0.023613</td>\n",
       "      <td>-0.020365</td>\n",
       "      <td>-0.048671</td>\n",
       "    </tr>\n",
       "    <tr>\n",
       "      <th>Previous CTC</th>\n",
       "      <td>0.041979</td>\n",
       "      <td>0.004644</td>\n",
       "      <td>1.000000</td>\n",
       "      <td>0.005756</td>\n",
       "      <td>-0.032976</td>\n",
       "      <td>0.119163</td>\n",
       "      <td>0.258000</td>\n",
       "      <td>0.012321</td>\n",
       "    </tr>\n",
       "    <tr>\n",
       "      <th>Previous job change</th>\n",
       "      <td>-0.055060</td>\n",
       "      <td>0.051670</td>\n",
       "      <td>0.005756</td>\n",
       "      <td>1.000000</td>\n",
       "      <td>0.019267</td>\n",
       "      <td>0.023488</td>\n",
       "      <td>0.011370</td>\n",
       "      <td>-0.017150</td>\n",
       "    </tr>\n",
       "    <tr>\n",
       "      <th>Graduation Marks</th>\n",
       "      <td>0.003539</td>\n",
       "      <td>-0.018616</td>\n",
       "      <td>-0.032976</td>\n",
       "      <td>0.019267</td>\n",
       "      <td>1.000000</td>\n",
       "      <td>-0.057061</td>\n",
       "      <td>-0.005450</td>\n",
       "      <td>0.017858</td>\n",
       "    </tr>\n",
       "    <tr>\n",
       "      <th>EXP (Month)</th>\n",
       "      <td>0.011752</td>\n",
       "      <td>-0.023613</td>\n",
       "      <td>0.119163</td>\n",
       "      <td>0.023488</td>\n",
       "      <td>-0.057061</td>\n",
       "      <td>1.000000</td>\n",
       "      <td>0.301115</td>\n",
       "      <td>-0.026751</td>\n",
       "    </tr>\n",
       "    <tr>\n",
       "      <th>CTC</th>\n",
       "      <td>-0.029592</td>\n",
       "      <td>-0.020365</td>\n",
       "      <td>0.258000</td>\n",
       "      <td>0.011370</td>\n",
       "      <td>-0.005450</td>\n",
       "      <td>0.301115</td>\n",
       "      <td>1.000000</td>\n",
       "      <td>0.621311</td>\n",
       "    </tr>\n",
       "    <tr>\n",
       "      <th>Role_Manager</th>\n",
       "      <td>-0.014749</td>\n",
       "      <td>-0.048671</td>\n",
       "      <td>0.012321</td>\n",
       "      <td>-0.017150</td>\n",
       "      <td>0.017858</td>\n",
       "      <td>-0.026751</td>\n",
       "      <td>0.621311</td>\n",
       "      <td>1.000000</td>\n",
       "    </tr>\n",
       "  </tbody>\n",
       "</table>\n",
       "</div>"
      ],
      "text/plain": [
       "                      College      City  Previous CTC  Previous job change  \\\n",
       "College              1.000000 -0.014946      0.041979            -0.055060   \n",
       "City                -0.014946  1.000000      0.004644             0.051670   \n",
       "Previous CTC         0.041979  0.004644      1.000000             0.005756   \n",
       "Previous job change -0.055060  0.051670      0.005756             1.000000   \n",
       "Graduation Marks     0.003539 -0.018616     -0.032976             0.019267   \n",
       "EXP (Month)          0.011752 -0.023613      0.119163             0.023488   \n",
       "CTC                 -0.029592 -0.020365      0.258000             0.011370   \n",
       "Role_Manager        -0.014749 -0.048671      0.012321            -0.017150   \n",
       "\n",
       "                     Graduation Marks  EXP (Month)       CTC  Role_Manager  \n",
       "College                      0.003539     0.011752 -0.029592     -0.014749  \n",
       "City                        -0.018616    -0.023613 -0.020365     -0.048671  \n",
       "Previous CTC                -0.032976     0.119163  0.258000      0.012321  \n",
       "Previous job change          0.019267     0.023488  0.011370     -0.017150  \n",
       "Graduation Marks             1.000000    -0.057061 -0.005450      0.017858  \n",
       "EXP (Month)                 -0.057061     1.000000  0.301115     -0.026751  \n",
       "CTC                         -0.005450     0.301115  1.000000      0.621311  \n",
       "Role_Manager                 0.017858    -0.026751  0.621311      1.000000  "
      ]
     },
     "execution_count": 15,
     "metadata": {},
     "output_type": "execute_result"
    }
   ],
   "source": [
    "# Calculate the correlation matrix\n",
    "df.corr()"
   ]
  },
  {
   "cell_type": "markdown",
   "id": "9669a237",
   "metadata": {},
   "source": [
    "# Observation -\n",
    "1.CTC and EXP (Months): There is a moderate positive correlation (0.301115), signifying a significant positive relationship between current salary (CTC) and months of work experience.\n",
    "\n",
    "1.CTC and Role_Manager: There is a strong positive correlation (0.621311) indicates a strong positive relationship between current salary (CTC) and the manager's role."
   ]
  },
  {
   "cell_type": "markdown",
   "id": "95f96dd2",
   "metadata": {},
   "source": [
    "# 4. Detection of Outliers"
   ]
  },
  {
   "cell_type": "code",
   "execution_count": 16,
   "id": "61257f41",
   "metadata": {},
   "outputs": [
    {
     "data": {
      "text/plain": [
       "<Axes: >"
      ]
     },
     "execution_count": 16,
     "metadata": {},
     "output_type": "execute_result"
    },
    {
     "data": {
      "image/png": "[encoded data removed]",
      "text/plain": [
       "<Figure size 640x480 with 1 Axes>"
      ]
     },
     "metadata": {},
     "output_type": "display_data"
    }
   ],
   "source": [
    "# Using seaborn library to plot box plot for detection of outliers\n",
    "sns.boxplot(df['Previous CTC'])"
   ]
  },
  {
   "cell_type": "code",
   "execution_count": 17,
   "id": "e1d7a69b",
   "metadata": {},
   "outputs": [
    {
     "data": {
      "text/plain": [
       "<Axes: >"
      ]
     },
     "execution_count": 17,
     "metadata": {},
     "output_type": "execute_result"
    },
    {
     "data": {
      "image/png": "[encoded data removed]",
      "text/plain": [
       "<Figure size 640x480 with 1 Axes>"
      ]
     },
     "metadata": {},
     "output_type": "display_data"
    }
   ],
   "source": [
    "sns.boxplot(df['CTC'])"
   ]
  },
  {
   "cell_type": "markdown",
   "id": "bc13c694",
   "metadata": {},
   "source": [
    "### Outliers analysis in Previous CTC column"
   ]
  },
  {
   "cell_type": "code",
   "execution_count": 18,
   "id": "f7211801",
   "metadata": {},
   "outputs": [],
   "source": [
    "q1 = df['Previous CTC'].quantile(0.25)\n",
    "q2 = df['Previous CTC'].quantile(0.75)"
   ]
  },
  {
   "cell_type": "code",
   "execution_count": 19,
   "id": "595b62c1",
   "metadata": {},
   "outputs": [],
   "source": [
    "iqr = q2-q1"
   ]
  },
  {
   "cell_type": "code",
   "execution_count": 20,
   "id": "4f701dfa",
   "metadata": {},
   "outputs": [],
   "source": [
    "upper_limit = q2 + 1.5*iqr\n",
    "lower_limit = q1 - 1.5*iqr"
   ]
  },
  {
   "cell_type": "code",
   "execution_count": 21,
   "id": "47a3ed58",
   "metadata": {},
   "outputs": [
    {
     "data": {
      "text/html": [
       "<div>\n",
       "<style scoped>\n",
       "    .dataframe tbody tr th:only-of-type {\n",
       "        vertical-align: middle;\n",
       "    }\n",
       "\n",
       "    .dataframe tbody tr th {\n",
       "        vertical-align: top;\n",
       "    }\n",
       "\n",
       "    .dataframe thead th {\n",
       "        text-align: right;\n",
       "    }\n",
       "</style>\n",
       "<table border=\"1\" class=\"dataframe\">\n",
       "  <thead>\n",
       "    <tr style=\"text-align: right;\">\n",
       "      <th></th>\n",
       "      <th>College</th>\n",
       "      <th>City</th>\n",
       "      <th>Previous CTC</th>\n",
       "      <th>Previous job change</th>\n",
       "      <th>Graduation Marks</th>\n",
       "      <th>EXP (Month)</th>\n",
       "      <th>CTC</th>\n",
       "      <th>Role_Manager</th>\n",
       "    </tr>\n",
       "  </thead>\n",
       "  <tbody>\n",
       "    <tr>\n",
       "      <th>116</th>\n",
       "      <td>3</td>\n",
       "      <td>1</td>\n",
       "      <td>77911.0</td>\n",
       "      <td>1</td>\n",
       "      <td>50</td>\n",
       "      <td>58</td>\n",
       "      <td>87831.62</td>\n",
       "      <td>0</td>\n",
       "    </tr>\n",
       "    <tr>\n",
       "      <th>860</th>\n",
       "      <td>1</td>\n",
       "      <td>1</td>\n",
       "      <td>75785.0</td>\n",
       "      <td>4</td>\n",
       "      <td>63</td>\n",
       "      <td>37</td>\n",
       "      <td>110338.25</td>\n",
       "      <td>1</td>\n",
       "    </tr>\n",
       "    <tr>\n",
       "      <th>1088</th>\n",
       "      <td>3</td>\n",
       "      <td>1</td>\n",
       "      <td>76815.0</td>\n",
       "      <td>4</td>\n",
       "      <td>75</td>\n",
       "      <td>52</td>\n",
       "      <td>82684.17</td>\n",
       "      <td>0</td>\n",
       "    </tr>\n",
       "    <tr>\n",
       "      <th>1317</th>\n",
       "      <td>1</td>\n",
       "      <td>0</td>\n",
       "      <td>76070.0</td>\n",
       "      <td>2</td>\n",
       "      <td>54</td>\n",
       "      <td>18</td>\n",
       "      <td>58309.56</td>\n",
       "      <td>0</td>\n",
       "    </tr>\n",
       "    <tr>\n",
       "      <th>1454</th>\n",
       "      <td>1</td>\n",
       "      <td>1</td>\n",
       "      <td>77911.0</td>\n",
       "      <td>1</td>\n",
       "      <td>50</td>\n",
       "      <td>58</td>\n",
       "      <td>87831.62</td>\n",
       "      <td>0</td>\n",
       "    </tr>\n",
       "  </tbody>\n",
       "</table>\n",
       "</div>"
      ],
      "text/plain": [
       "      College  City  Previous CTC  Previous job change  Graduation Marks  \\\n",
       "116         3     1       77911.0                    1                50   \n",
       "860         1     1       75785.0                    4                63   \n",
       "1088        3     1       76815.0                    4                75   \n",
       "1317        1     0       76070.0                    2                54   \n",
       "1454        1     1       77911.0                    1                50   \n",
       "\n",
       "      EXP (Month)        CTC  Role_Manager  \n",
       "116            58   87831.62             0  \n",
       "860            37  110338.25             1  \n",
       "1088           52   82684.17             0  \n",
       "1317           18   58309.56             0  \n",
       "1454           58   87831.62             0  "
      ]
     },
     "execution_count": 21,
     "metadata": {},
     "output_type": "execute_result"
    }
   ],
   "source": [
    "df[(df['Previous CTC'] < lower_limit) | (df['Previous CTC'] > upper_limit)]"
   ]
  },
  {
   "cell_type": "markdown",
   "id": "a84d9068",
   "metadata": {},
   "source": [
    "### Outliers analysis in CTC column"
   ]
  },
  {
   "cell_type": "code",
   "execution_count": 22,
   "id": "7f52c988",
   "metadata": {},
   "outputs": [],
   "source": [
    "q1 = df['Previous CTC'].quantile(0.25)\n",
    "q2 = df['Previous CTC'].quantile(0.75)"
   ]
  },
  {
   "cell_type": "code",
   "execution_count": 23,
   "id": "7498865c",
   "metadata": {},
   "outputs": [],
   "source": [
    "iqr = q2-q1"
   ]
  },
  {
   "cell_type": "code",
   "execution_count": 24,
   "id": "ce81d051",
   "metadata": {},
   "outputs": [],
   "source": [
    "upper_limit = q2 + 1.5*iqr\n",
    "lower_limit = q1 - 1.5*iqr"
   ]
  },
  {
   "cell_type": "code",
   "execution_count": 25,
   "id": "cbd0b82b",
   "metadata": {},
   "outputs": [
    {
     "data": {
      "text/html": [
       "<div>\n",
       "<style scoped>\n",
       "    .dataframe tbody tr th:only-of-type {\n",
       "        vertical-align: middle;\n",
       "    }\n",
       "\n",
       "    .dataframe tbody tr th {\n",
       "        vertical-align: top;\n",
       "    }\n",
       "\n",
       "    .dataframe thead th {\n",
       "        text-align: right;\n",
       "    }\n",
       "</style>\n",
       "<table border=\"1\" class=\"dataframe\">\n",
       "  <thead>\n",
       "    <tr style=\"text-align: right;\">\n",
       "      <th></th>\n",
       "      <th>College</th>\n",
       "      <th>City</th>\n",
       "      <th>Previous CTC</th>\n",
       "      <th>Previous job change</th>\n",
       "      <th>Graduation Marks</th>\n",
       "      <th>EXP (Month)</th>\n",
       "      <th>CTC</th>\n",
       "      <th>Role_Manager</th>\n",
       "    </tr>\n",
       "  </thead>\n",
       "  <tbody>\n",
       "    <tr>\n",
       "      <th>2</th>\n",
       "      <td>3</td>\n",
       "      <td>0</td>\n",
       "      <td>60347.0</td>\n",
       "      <td>2</td>\n",
       "      <td>52</td>\n",
       "      <td>28</td>\n",
       "      <td>76764.02</td>\n",
       "      <td>0</td>\n",
       "    </tr>\n",
       "    <tr>\n",
       "      <th>3</th>\n",
       "      <td>3</td>\n",
       "      <td>0</td>\n",
       "      <td>49010.0</td>\n",
       "      <td>2</td>\n",
       "      <td>81</td>\n",
       "      <td>33</td>\n",
       "      <td>82092.39</td>\n",
       "      <td>0</td>\n",
       "    </tr>\n",
       "    <tr>\n",
       "      <th>9</th>\n",
       "      <td>1</td>\n",
       "      <td>0</td>\n",
       "      <td>51141.0</td>\n",
       "      <td>1</td>\n",
       "      <td>47</td>\n",
       "      <td>60</td>\n",
       "      <td>85648.48</td>\n",
       "      <td>0</td>\n",
       "    </tr>\n",
       "    <tr>\n",
       "      <th>10</th>\n",
       "      <td>1</td>\n",
       "      <td>1</td>\n",
       "      <td>49497.0</td>\n",
       "      <td>1</td>\n",
       "      <td>50</td>\n",
       "      <td>25</td>\n",
       "      <td>74914.15</td>\n",
       "      <td>0</td>\n",
       "    </tr>\n",
       "    <tr>\n",
       "      <th>11</th>\n",
       "      <td>2</td>\n",
       "      <td>1</td>\n",
       "      <td>50197.0</td>\n",
       "      <td>2</td>\n",
       "      <td>66</td>\n",
       "      <td>62</td>\n",
       "      <td>85219.39</td>\n",
       "      <td>1</td>\n",
       "    </tr>\n",
       "    <tr>\n",
       "      <th>...</th>\n",
       "      <td>...</td>\n",
       "      <td>...</td>\n",
       "      <td>...</td>\n",
       "      <td>...</td>\n",
       "      <td>...</td>\n",
       "      <td>...</td>\n",
       "      <td>...</td>\n",
       "      <td>...</td>\n",
       "    </tr>\n",
       "    <tr>\n",
       "      <th>1580</th>\n",
       "      <td>1</td>\n",
       "      <td>1</td>\n",
       "      <td>53027.0</td>\n",
       "      <td>4</td>\n",
       "      <td>69</td>\n",
       "      <td>55</td>\n",
       "      <td>106846.34</td>\n",
       "      <td>0</td>\n",
       "    </tr>\n",
       "    <tr>\n",
       "      <th>1581</th>\n",
       "      <td>3</td>\n",
       "      <td>0</td>\n",
       "      <td>55858.0</td>\n",
       "      <td>4</td>\n",
       "      <td>47</td>\n",
       "      <td>40</td>\n",
       "      <td>77673.29</td>\n",
       "      <td>0</td>\n",
       "    </tr>\n",
       "    <tr>\n",
       "      <th>1582</th>\n",
       "      <td>1</td>\n",
       "      <td>0</td>\n",
       "      <td>49074.0</td>\n",
       "      <td>3</td>\n",
       "      <td>58</td>\n",
       "      <td>63</td>\n",
       "      <td>84287.39</td>\n",
       "      <td>1</td>\n",
       "    </tr>\n",
       "    <tr>\n",
       "      <th>1583</th>\n",
       "      <td>3</td>\n",
       "      <td>0</td>\n",
       "      <td>54121.0</td>\n",
       "      <td>3</td>\n",
       "      <td>51</td>\n",
       "      <td>54</td>\n",
       "      <td>84320.29</td>\n",
       "      <td>0</td>\n",
       "    </tr>\n",
       "    <tr>\n",
       "      <th>1584</th>\n",
       "      <td>1</td>\n",
       "      <td>1</td>\n",
       "      <td>61285.0</td>\n",
       "      <td>3</td>\n",
       "      <td>44</td>\n",
       "      <td>60</td>\n",
       "      <td>77283.59</td>\n",
       "      <td>0</td>\n",
       "    </tr>\n",
       "  </tbody>\n",
       "</table>\n",
       "<p>705 rows × 8 columns</p>\n",
       "</div>"
      ],
      "text/plain": [
       "      College  City  Previous CTC  Previous job change  Graduation Marks  \\\n",
       "2           3     0       60347.0                    2                52   \n",
       "3           3     0       49010.0                    2                81   \n",
       "9           1     0       51141.0                    1                47   \n",
       "10          1     1       49497.0                    1                50   \n",
       "11          2     1       50197.0                    2                66   \n",
       "...       ...   ...           ...                  ...               ...   \n",
       "1580        1     1       53027.0                    4                69   \n",
       "1581        3     0       55858.0                    4                47   \n",
       "1582        1     0       49074.0                    3                58   \n",
       "1583        3     0       54121.0                    3                51   \n",
       "1584        1     1       61285.0                    3                44   \n",
       "\n",
       "      EXP (Month)        CTC  Role_Manager  \n",
       "2              28   76764.02             0  \n",
       "3              33   82092.39             0  \n",
       "9              60   85648.48             0  \n",
       "10             25   74914.15             0  \n",
       "11             62   85219.39             1  \n",
       "...           ...        ...           ...  \n",
       "1580           55  106846.34             0  \n",
       "1581           40   77673.29             0  \n",
       "1582           63   84287.39             1  \n",
       "1583           54   84320.29             0  \n",
       "1584           60   77283.59             0  \n",
       "\n",
       "[705 rows x 8 columns]"
      ]
     },
     "execution_count": 25,
     "metadata": {},
     "output_type": "execute_result"
    }
   ],
   "source": [
    "df[(df['CTC'] < lower_limit) | (df['CTC'] > upper_limit)]"
   ]
  },
  {
   "cell_type": "markdown",
   "id": "8b79448b",
   "metadata": {},
   "source": [
    "# Observation-\n",
    "\n",
    "Here we can observe that the values in the 'CTC' and 'Previous CTC' columns are just extreme values but not outliers that can make any huge difference while making prediction. Therefore in my opinion keeping those outliers into data is more useful than removing as from my perspective these are not going to affect my model."
   ]
  },
  {
   "cell_type": "code",
   "execution_count": 26,
   "id": "648c2dd1",
   "metadata": {},
   "outputs": [],
   "source": [
    "# Split data into dependent and Independent Variable\n",
    "\n",
    "X = df.loc[:, df.columns != 'CTC']\n",
    "y = df['CTC']"
   ]
  },
  {
   "cell_type": "markdown",
   "id": "ac1c45a7",
   "metadata": {},
   "source": [
    "# 5. Model Selection\n",
    "Select suitable regression models for predicting salary based on the input features. Potential choices encompass Linear Regression, Ridge Regression , Lasso Regression, Random Forest, Gradient Boosting Regression."
   ]
  },
  {
   "cell_type": "markdown",
   "id": "d5b134c1",
   "metadata": {},
   "source": [
    "### A. Linear Regression"
   ]
  },
  {
   "cell_type": "code",
   "execution_count": 27,
   "id": "a0a7f59c",
   "metadata": {},
   "outputs": [],
   "source": [
    "# Split Data into train and test with test_size = 0.2(80% data into train and 20% to test)\n",
    "\n",
    "X_train, X_test, y_train, y_test = train_test_split(X, y, test_size = 0.2, random_state = 0)"
   ]
  },
  {
   "cell_type": "code",
   "execution_count": 28,
   "id": "01ded919",
   "metadata": {},
   "outputs": [
    {
     "name": "stdout",
     "output_type": "stream",
     "text": [
      "Intercept : 36989.42825478613\n",
      "coefficients: [-3.96799551e+02  9.32400785e+02  4.28858057e-01  9.82300083e+01\n",
      "  9.94507467e+00  2.57591989e+02  1.92412378e+04]\n",
      "Mean Squared Error: 73850236.53093155\n",
      "R-Squared: 0.5355989894789973\n"
     ]
    }
   ],
   "source": [
    "# Creating a LinearRegression model and fitting it to the training data.\n",
    "lm1 = LinearRegression()\n",
    "lm1.fit(X_train, y_train)\n",
    "\n",
    "# Printing the intercept and coefficients of the trained linear regression model:\n",
    "print(\"Intercept :\", lm1.intercept_)\n",
    "print(\"coefficients:\", lm1.coef_)\n",
    "\n",
    "# Model Evaluation Metrics:\n",
    "\n",
    "# R-squared (R2): Measures the proportion of variance in the dependent variable explained by the independent variables.\n",
    "r2 = r2_score(y_test, lm1.predict(X_test))\n",
    "\n",
    "# Mean Squared Error (MSE): Measures the average squared difference between predicted and actual values.\n",
    "mse = mean_squared_error(y, lm1.predict(X))\n",
    "\n",
    "# Printing the model evaluation metrics:\n",
    "print(\"Mean Squared Error:\", mse)\n",
    "print(\"R-Squared:\", r2)\n",
    "\n"
   ]
  },
  {
   "cell_type": "markdown",
   "id": "f6fc807f",
   "metadata": {},
   "source": [
    "# Observation\n",
    "The Mean Squared Error (MSE) value is relatively high, implying that the model's predictions exhibit a notable average deviation from the actual values. The R-squared value, although moderate, indicates that the model accounts for approximately 53% of the variance in the target variable. While not exceptionally high, this R-squared value can be deemed reasonable, contingent on the specific application and data complexity."
   ]
  },
  {
   "cell_type": "markdown",
   "id": "a6865157",
   "metadata": {},
   "source": [
    "### B. Ridge Regression"
   ]
  },
  {
   "cell_type": "code",
   "execution_count": 29,
   "id": "004a68c1",
   "metadata": {},
   "outputs": [
    {
     "name": "stdout",
     "output_type": "stream",
     "text": [
      "Test R-squared: 0.5355706435154037\n",
      "Train R-squared: 0.5331290239109374\n",
      "Mean Squared Error (Test): 68914076.79865685\n",
      "Mean Squared Error (Train): 75086349.53480597\n"
     ]
    }
   ],
   "source": [
    "# Feature scaling using StandardScaler\n",
    "scaler = StandardScaler()\n",
    "X_train_scaled = scaler.fit_transform(X_train)\n",
    "X_test_scaled = scaler.transform(X_test)\n",
    "\n",
    "# Create a Ridge regression model with alpha=1.0\n",
    "ridge_model = Ridge(alpha=1.0)\n",
    "\n",
    "# Fit the Ridge model to the scaled training data\n",
    "ridge_model.fit(X_train_scaled, y_train)\n",
    "\n",
    "# Make predictions on the scaled test data\n",
    "y_pred = ridge_model.predict(X_test_scaled)\n",
    "\n",
    "# Calculate R-squared for the test and training data\n",
    "test_r2_score = r2_score(y_test, y_pred)\n",
    "train_r2_score = r2_score(y_train, ridge_model.predict(X_train_scaled))\n",
    "\n",
    "# Calculate Mean Squared Error (MSE) for test and train data\n",
    "mse_test = mean_squared_error(y_test, y_pred)\n",
    "mse_train = mean_squared_error(y_train, ridge_model.predict(X_train_scaled))\n",
    "\n",
    "# Print evaluation metrics\n",
    "print(\"Test R-squared:\", test_r2_score)\n",
    "print(\"Train R-squared:\", train_r2_score)\n",
    "print(\"Mean Squared Error (Test):\", mse_test)\n",
    "print(\"Mean Squared Error (Train):\", mse_train)"
   ]
  },
  {
   "cell_type": "markdown",
   "id": "78ed31eb",
   "metadata": {},
   "source": [
    "# Observation \n",
    "The Test R-squared value is higher than the Train R-squared value.\n",
    "This suggests that the model is generalizing reasonably well to new, unseen data.\n",
    "This is a positive sign because it indicates that the model is not significantly overfitting to the training data. Overfitting occurs when a model fits the training data too closely and doesn't perform well on new data."
   ]
  },
  {
   "cell_type": "markdown",
   "id": "c1470060",
   "metadata": {},
   "source": [
    "### C. Lasso Regression"
   ]
  },
  {
   "cell_type": "code",
   "execution_count": 30,
   "id": "a9676af7",
   "metadata": {},
   "outputs": [
    {
     "name": "stdout",
     "output_type": "stream",
     "text": [
      "Lasso Regression Mean Squared Error (MSE): 68909672.20436575\n",
      "Lasso Regression R-squared (Test): 0.5356003271879888\n",
      "Lasso Regression R-squared (Train): 0.5331293331273885\n"
     ]
    }
   ],
   "source": [
    "# Feature scaling (standardization)\n",
    "scaler = StandardScaler()\n",
    "X_train_scaled = scaler.fit_transform(X_train)\n",
    "X_test_scaled = scaler.transform(X_test)\n",
    "\n",
    "# Initialize and train the Lasso regression model\n",
    "lasso_model = Lasso(alpha=0.1)  # You can tune the alpha parameter for regularization strength\n",
    "lasso_model.fit(X_train_scaled, y_train)\n",
    "\n",
    "# Predict on the test set\n",
    "y_pred = lasso_model.predict(X_test_scaled)\n",
    "\n",
    "# Calculate Mean Squared Error (MSE) to evaluate the model\n",
    "mse = mean_squared_error(y_test, y_pred)\n",
    "\n",
    "# Calculate R-squared scores for both test and train sets\n",
    "r2_score_test = r2_score(y_test, y_pred)\n",
    "r2_score_train = r2_score(y_train, lasso_model.predict(X_train_scaled))\n",
    "\n",
    "# Print evaluation metrics\n",
    "print(\"Lasso Regression Mean Squared Error (MSE):\", mse)\n",
    "print(\"Lasso Regression R-squared (Test):\", r2_score_test)\n",
    "print(\"Lasso Regression R-squared (Train):\", r2_score_train)\n"
   ]
  },
  {
   "cell_type": "markdown",
   "id": "d5934735",
   "metadata": {},
   "source": [
    "# Observation\n",
    "\n",
    "The Mean Squared Error (MSE) of 68909672.20436575 is relatively low, suggesting that the model's predictions closely align with the actual values.\n",
    "\n",
    "Comparing the R2 scores, the test data's R2 score is slightly higher than the train data's R2 score, which is generally favorable. This suggests that the model generalizes well to new, unseen data."
   ]
  },
  {
   "cell_type": "markdown",
   "id": "fc11dd9a",
   "metadata": {},
   "source": [
    "### D. Random Forest \n"
   ]
  },
  {
   "cell_type": "code",
   "execution_count": 31,
   "id": "e6a9c9c4",
   "metadata": {},
   "outputs": [
    {
     "name": "stdout",
     "output_type": "stream",
     "text": [
      "Random Forest Test R-squared: 0.6610893380234057\n",
      "Random Forest Train R-squared: 0.9506901807331388\n",
      "Random Forest Mean Squared Error (MSE): 50289059.16741566\n"
     ]
    }
   ],
   "source": [
    "from sklearn.ensemble import RandomForestRegressor\n",
    "from sklearn.model_selection import train_test_split, cross_val_score\n",
    "from sklearn.metrics import accuracy_score\n",
    "\n",
    "# Feature scaling (standardization)\n",
    "scaler = StandardScaler()\n",
    "X_train_scaled = scaler.fit_transform(X_train)\n",
    "X_test_scaled = scaler.transform(X_test)\n",
    "\n",
    "# Build the Random Forest regressor with hyperparameter tuning and regularization\n",
    "random_forest_model = RandomForestRegressor(\n",
    "    n_estimators=1000,       # Number of trees in the forest\n",
    "    max_depth=10,            # Maximum depth of the tree\n",
    "    min_samples_split=2,     # Minimum number of samples required to split an internal node\n",
    "    min_samples_leaf=1,      # Minimum number of samples required to be at a leaf node\n",
    "    random_state=0          # Random seed for reproducibility\n",
    ")\n",
    "\n",
    "# Perform cross-validation to evaluate the model's performance\n",
    "cv_scores = cross_val_score(random_forest_model, X_train_scaled, y_train, cv=5)\n",
    "\n",
    "# Initialize and train the Random Forest Regressor\n",
    "random_forest_model = RandomForestRegressor(n_estimators=1000, random_state=0)\n",
    "random_forest_model.fit(X_train_scaled, y_train)\n",
    "\n",
    "# Predict on the test set\n",
    "y_pred = random_forest_model.predict(X_test_scaled)\n",
    "\n",
    "# Evaluate the model\n",
    "test_r2_score = r2_score(y_test, y_pred)\n",
    "train_r2_score = r2_score(y_train, random_forest_model.predict(X_train_scaled))\n",
    "mse = mean_squared_error(y_test, y_pred)\n",
    "\n",
    "# Print evaluation metrics\n",
    "print(\"Random Forest Test R-squared:\", test_r2_score)\n",
    "print(\"Random Forest Train R-squared:\", train_r2_score)\n",
    "print(\"Random Forest Mean Squared Error (MSE):\", mse)\n"
   ]
  },
  {
   "cell_type": "markdown",
   "id": "10f25be3",
   "metadata": {},
   "source": [
    "# Observation"
   ]
  },
  {
   "cell_type": "markdown",
   "id": "cdbe0726",
   "metadata": {},
   "source": [
    "Comparing the Test and Train R-squared values, the Test R-squared is slightly lower than the Train R-squared, which is a typical and desirable pattern. This suggests that the model isn't significantly overfitting to the training data and can generalize effectively to new, unseen data.\n",
    "\n",
    "Overall, the Random Forest model displays promise with its high R-squared values on both the training and test data, indicating its ability to capture underlying data patterns and make accurate predictions. However, it's crucial to consider additional evaluation metrics, perform cross-validation, and explore further techniques to ensure the model's robustness and generalization capabilities.\n",
    "\n",
    "Furthermore, the Random Forest model, with tuned hyperparameters, appears to perform well, achieving high R-squared values on both training and test data. The hyperparameter tuning likely enhances the model's ability to generalize and make accurate predictions on unseen data.\n"
   ]
  },
  {
   "cell_type": "markdown",
   "id": "6fb750e5",
   "metadata": {},
   "source": [
    "### E. Gradient Boosting"
   ]
  },
  {
   "cell_type": "code",
   "execution_count": 37,
   "id": "c317e691",
   "metadata": {},
   "outputs": [
    {
     "name": "stdout",
     "output_type": "stream",
     "text": [
      "Gradient Boosting Test R-squared: 0.6032612554772543\n",
      "Gradient Boosting Train R-squared: 0.9481791819936704\n",
      "Gradient Boosting Mean Squared Error (MSE): 58869845.170844644\n"
     ]
    }
   ],
   "source": [
    "from sklearn.ensemble import GradientBoostingRegressor\n",
    "\n",
    "# Feature scaling (standardization)\n",
    "scaler = StandardScaler()\n",
    "X_train_scaled = scaler.fit_transform(X_train)\n",
    "X_test_scaled = scaler.transform(X_test)\n",
    "\n",
    "# Initialize and train the Gradient Boosting Regressor\n",
    "gradient_boosting_model = GradientBoostingRegressor(n_estimators=1000, learning_rate=0.1, random_state=0)\n",
    "gradient_boosting_model.fit(X_train_scaled, y_train)\n",
    "\n",
    "# Predict on the test set\n",
    "y_pred = gradient_boosting_model.predict(X_test_scaled)\n",
    "\n",
    "# Evaluate the model\n",
    "test_r2_score = r2_score(y_test, y_pred)\n",
    "train_r2_score = r2_score(y_train, gradient_boosting_model.predict(X_train_scaled))\n",
    "mse = mean_squared_error(y_test, y_pred)\n",
    "\n",
    "# Print evaluation metrics\n",
    "print(\"Gradient Boosting Test R-squared:\", test_r2_score)\n",
    "print(\"Gradient Boosting Train R-squared:\", train_r2_score)\n",
    "print(\"Gradient Boosting Mean Squared Error (MSE):\", mse)"
   ]
  },
  {
   "cell_type": "markdown",
   "id": "b0eb01f6",
   "metadata": {},
   "source": [
    "# Observation\n",
    "Based on R-squared values, the Gradient Boosting model demonstrates superior performance.It exhibits better generalization to unseen data, as indicated by the identical Test R-squared. Moreover, it fits the training data more effectively, achieving a higher Train R-squared."
   ]
  },
  {
   "cell_type": "markdown",
   "id": "c1fe0e7b",
   "metadata": {},
   "source": [
    "# 6. Final Model Selection\n",
    "#### R2_score\n",
    "- Linear Regression : r2_score = 0.5355\n",
    "- Ridge: r2_score = 0.5355\n",
    "- Lasso: r2_score = 0.5356\n",
    "- Random Forest: r2_score = 0.6610\n",
    "- Gradient Boost: r2_score = 0.6032\n",
    "    \n",
    "####  MSE values\n",
    "- Linear Regression: mse = 73850236.53\n",
    "- Ridge: mse = 68914076.79\n",
    "- Lasso: mse = 68909672.20\n",
    "- Random Forest: mse = 50289059.16\n",
    "- Gradient Boost: mse = 58869845.17\n",
    "\n",
    "\n",
    "Among the different models, Random Forest consistently performs well in all scenarios. It achieves the highest R-squared scores, indicating a good fit to the data.\n",
    "- Overall, if we consider R-squared as the primary metric for model performance, Random Forest is the top performer, followed by Gradiant Boost.\n",
    "\n",
    "- These two models consistently exhibited the highest R-squared scores and the lowest MSE values among all the models we evaluated. It's essential to consider other factors like computational efficiency, model interpretability, and the specific goals of your application when choosing the best model.\n",
    "\n",
    "- Ultimately, we opted for Random Forest as our preferred model because of its exceptional predictive accuracy, robustness, and user-friendly nature."
   ]
  },
  {
   "cell_type": "markdown",
   "id": "f0b00e19",
   "metadata": {},
   "source": [
    "# Selected Model - Random Forest"
   ]
  },
  {
   "cell_type": "code",
   "execution_count": 33,
   "id": "831b701c",
   "metadata": {},
   "outputs": [],
   "source": [
    "# Prepare New Employee For CTC Prediction\n",
    "Employee = pd.DataFrame({\n",
    "    'College':[1,1],\n",
    "    'City':[1,0],\n",
    "    'Previous CTC': [60000,40000],\n",
    "    'Previous job change': [2, 1],\n",
    "    'Graduation Marks': [86, 72],\n",
    "    'EXP (Month)': [3, 2], \n",
    "    'Role_Manager':[0,1]\n",
    "})"
   ]
  },
  {
   "cell_type": "code",
   "execution_count": 34,
   "id": "77181495",
   "metadata": {},
   "outputs": [],
   "source": [
    "new_Employee_scaled = scaler.transform(Employee)"
   ]
  },
  {
   "cell_type": "code",
   "execution_count": 35,
   "id": "689d1e7d",
   "metadata": {},
   "outputs": [],
   "source": [
    "predictions = random_forest_model.predict(new_Employee_scaled)  # Assuming 'random_forest_model' is your trained model"
   ]
  },
  {
   "cell_type": "code",
   "execution_count": 36,
   "id": "24bff738",
   "metadata": {},
   "outputs": [
    {
     "name": "stdout",
     "output_type": "stream",
     "text": [
      "Predicted Salary for Employee 1: $61918.82\n",
      "Predicted Salary for Employee 2: $74341.15\n"
     ]
    }
   ],
   "source": [
    "for i, salary in enumerate(predictions):\n",
    "    print(f\"Predicted Salary for Employee {i + 1}: ${salary:.2f}\")"
   ]
  },
  {
   "cell_type": "markdown",
   "id": "68fec1ee",
   "metadata": {},
   "source": [
    "#  1.Your views about the problem statement?\n",
    "\n",
    "The problem statement presents the challenges and goals of TechWorks Consulting, highlighting their focus on efficiently matching IT professionals with suitable job opportunities while ensuring fair compensation.\n",
    "\n",
    "The complete quality of the problem statement is one beneficial aspect. It considers a variety of elements that can affect an employee's wage, making it a realistic portrayal of the complexity encountered by HR departments in real-world circumstances. This realism is a significant aspect of the issue statement since it allows data scientists to work on a topic with clear corporate applicability.\n",
    "\n",
    "Furthermore, the incorporation of model performance evaluation techniques is crucial. Effective model evaluation is required to guarantee that the developed model's predictions are reliable and can be used to make educated hiring decisions.\n",
    "\n",
    "In conclusion, the problem statement is well-structured and corresponds to real-world Data Science challenges. By properly addressing this issue, data experts may help firms make more informed and productive recruiting decisions."
   ]
  },
  {
   "cell_type": "markdown",
   "id": "ec794d34",
   "metadata": {},
   "source": [
    "#  2. What will be your approach to solving this task?\n",
    "\n",
    "**1.Understanding the Problem:** Fully comprehend the problem statement, which is to develop a predictive model for employee CTC based on their information.\n",
    "\n",
    "**2.Data Collection :**\n",
    "<i>Collect the dataset by importing it into a dataframe for analysis and modeling.<i/>\n",
    "\n",
    "**3.Data Preprocessing:**\n",
    "\n",
    "<i>Prepare the data for modeling by performing the following tasks:</i>\n",
    "\n",
    " * Handling Missing Values: Check for missing data and fill in the gaps with appropriate strategies, such as using the mean or median values.\n",
    " * Outlier Detection: Identify and address outliers in the dataset to ensure they don't skew the model's performance.\n",
    " * Encoding Categorical Variables: Convert categorical variables into numerical representations using techniques like one-hot encoding or label encoding.\n",
    "\n",
    "**4.Model Selection:**\n",
    "\n",
    "<i>Choose a set of regression models,such as </i> \n",
    "* Linear Regression \n",
    "* Ridge Regression \n",
    "* Lasso Regression\n",
    "* Random Forest\n",
    "* Gradient Boosting\n",
    "\n",
    "**5.Final_Model Selection**\n",
    "<i>Based on the evaluation results, select the best-performing model as the final model for predicting CTC. Consider factors like model performance metrics, interpretability, and practicality for deployment.</i>"
   ]
  },
  {
   "cell_type": "markdown",
   "id": "6a68f022",
   "metadata": {},
   "source": [
    "# 3. What were the available ML model options you had to perform this task?\n",
    "\n",
    "- Linear Regression\n",
    "- Ridge Regression\n",
    "- Lasso Regression\n",
    "- Random Forest\n",
    "- Gradient Boosting"
   ]
  },
  {
   "cell_type": "markdown",
   "id": "6316066e",
   "metadata": {},
   "source": [
    "# 4.Which model’s performance is best and what could be the possible reason for that?\n",
    "\n",
    "**Random Forest:**\n",
    "- Ensemble Averaging: Reduces errors and improves stability by combining multiple decision trees.\n",
    "- Reduced Overfitting: Uses bootstrapped samples and random feature selection to prevent overfitting.\n",
    "- Feature Importance: Provides feature importance scores.\n",
    "- Out-of-Bag (OOB) Evaluation: Includes built-in cross-validation with OOB evaluation.\n",
    "- Resilience to Outliers: Less sensitive to outliers due to ensemble averaging."
   ]
  },
  {
   "cell_type": "markdown",
   "id": "65737ea6",
   "metadata": {},
   "source": [
    "# 5. What steps can you take to improve this selected model’s performance even further?\n",
    "1. **Feature Engineering:** Create informative features.\n",
    "2. **Data Cleaning:** Handle missing values and outliers.\n",
    "3. **Feature Scaling:** Normalize numerical features.\n",
    "4. **Hyperparameter Tuning:** Fine-tune model settings.\n",
    "5. **Ensemble Methods:** Combine models for better results.\n",
    "6. **Cross-Validation:** Assess model robustness.\n",
    "7. **Regularization:** Prevent overfitting with regularization.\n",
    "8. **Feature Selection:** Focus on essential features."
   ]
  },
  {
   "cell_type": "code",
   "execution_count": null,
   "id": "e00be8ab",
   "metadata": {},
   "outputs": [],
   "source": []
  }
 ],
 "metadata": {
  "kernelspec": {
   "display_name": "Python 3 (ipykernel)",
   "language": "python",
   "name": "python3"
  },
  "language_info": {
   "codemirror_mode": {
    "name": "ipython",
    "version": 3
   },
   "file_extension": ".py",
   "mimetype": "text/x-python",
   "name": "python",
   "nbconvert_exporter": "python",
   "pygments_lexer": "ipython3",
   "version": "3.10.6"
  }
 },
 "nbformat": 4,
 "nbformat_minor": 5
}
